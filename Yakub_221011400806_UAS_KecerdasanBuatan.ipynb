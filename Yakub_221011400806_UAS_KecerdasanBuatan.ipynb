{
 "cells": [
  {
   "cell_type": "code",
   "execution_count": 1,
   "metadata": {},
   "outputs": [
    {
     "name": "stdout",
     "output_type": "stream",
     "text": [
      "Tingkat stres: 7.740740740740741\n"
     ]
    }
   ],
   "source": [
    "# implementasi fuzzy untuk sistem prediksi tingkat stres mahasiswa (metode mamdani)\n",
    "import numpy as np\n",
    "import skfuzzy as fuzz\n",
    "from skfuzzy import control as ctrl\n",
    "\n",
    "# Definisi variabel input\n",
    "tugas = ctrl.Antecedent(np.arange(0, 11, 1), 'tugas')\n",
    "belajar = ctrl.Antecedent(np.arange(0, 11, 1), 'belajar')\n",
    "tidur = ctrl.Antecedent(np.arange(0, 11, 1), 'tidur')\n",
    "\n",
    "# Definisi variabel output\n",
    "stres = ctrl.Consequent(np.arange(0, 11, 1), 'stres')\n",
    "\n",
    "# Definisi himpunan fuzzy\n",
    "tugas['sedikit'] = fuzz.trimf(tugas.universe, [0, 0, 5])\n",
    "tugas['sedang'] = fuzz.trimf(tugas.universe, [3, 5, 7])\n",
    "tugas['banyak'] = fuzz.trimf(tugas.universe, [5, 10, 10])\n",
    "\n",
    "belajar['singkat'] = fuzz.trimf(belajar.universe, [0, 0, 5])\n",
    "belajar['sedang'] = fuzz.trimf(belajar.universe, [3, 5, 7])\n",
    "belajar['lama'] = fuzz.trimf(belajar.universe, [5, 10, 10])\n",
    "\n",
    "tidur['kurang'] = fuzz.trimf(tidur.universe, [0, 0, 5])\n",
    "tidur['cukup'] = fuzz.trimf(tidur.universe, [3, 5, 7])\n",
    "tidur['banyak'] = fuzz.trimf(tidur.universe, [5, 10, 10])\n",
    "\n",
    "stres['rendah'] = fuzz.trimf(stres.universe, [0, 0, 5])\n",
    "stres['sedang'] = fuzz.trimf(stres.universe, [3, 5, 7])\n",
    "stres['tinggi'] = fuzz.trimf(stres.universe, [5, 10, 10])\n",
    "\n",
    "# Definisi aturan fuzzy\n",
    "rule1 = ctrl.Rule(tugas['banyak'] & belajar['lama'] & tidur['kurang'], stres['tinggi'])\n",
    "rule2 = ctrl.Rule(tugas['sedikit'] & belajar['singkat'] & tidur['banyak'], stres['rendah'])\n",
    "rule3 = ctrl.Rule(tugas['sedang'] & belajar['sedang'] & tidur['cukup'], stres['sedang'])\n",
    "\n",
    "# Sistem kontrol\n",
    "stres_ctrl = ctrl.ControlSystem([rule1, rule2, rule3])\n",
    "stres_simulasi = ctrl.ControlSystemSimulation(stres_ctrl)\n",
    "\n",
    "# Simulasi nilai\n",
    "stres_simulasi.input['tugas'] = 7\n",
    "stres_simulasi.input['belajar'] = 6\n",
    "stres_simulasi.input['tidur'] = 4\n",
    "\n",
    "# Perhitungan\n",
    "stres_simulasi.compute()\n",
    "\n",
    "# Output hasil prediksi\n",
    "print(f\"Tingkat stres: {stres_simulasi.output['stres']}\")"
   ]
  },
  {
   "cell_type": "code",
   "execution_count": null,
   "metadata": {},
   "outputs": [],
   "source": []
  }
 ],
 "metadata": {
  "kernelspec": {
   "display_name": "Python 3",
   "language": "python",
   "name": "python3"
  },
  "language_info": {
   "codemirror_mode": {
    "name": "ipython",
    "version": 3
   },
   "file_extension": ".py",
   "mimetype": "text/x-python",
   "name": "python",
   "nbconvert_exporter": "python",
   "pygments_lexer": "ipython3",
   "version": "3.11.3"
  }
 },
 "nbformat": 4,
 "nbformat_minor": 2
}
